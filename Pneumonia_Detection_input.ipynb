{
 "cells": [
  {
   "cell_type": "code",
   "execution_count": 1,
   "metadata": {},
   "outputs": [],
   "source": [
    "import tensorflow as tf\n",
    "from keras.preprocessing.image import ImageDataGenerator\n",
    "import pandas as pd\n",
    "import keras\n",
    "import matplotlib.pyplot as plt"
   ]
  },
  {
   "cell_type": "code",
   "execution_count": 2,
   "metadata": {},
   "outputs": [
    {
     "name": "stdout",
     "output_type": "stream",
     "text": [
      "Found 5216 images belonging to 2 classes.\n"
     ]
    }
   ],
   "source": [
    "train_datagen = ImageDataGenerator(\n",
    "        rescale=1./255,\n",
    "        shear_range=0.2,\n",
    "        zoom_range=0.2,\n",
    "        horizontal_flip=True)\n",
    "training_set = train_datagen.flow_from_directory(\n",
    "        directory = r\"chest_xray/train/\",\n",
    "        target_size=(64 , 64),\n",
    "        batch_size=32,\n",
    "        class_mode='binary')"
   ]
  },
  {
   "cell_type": "code",
   "execution_count": 3,
   "metadata": {},
   "outputs": [
    {
     "name": "stdout",
     "output_type": "stream",
     "text": [
      "Found 624 images belonging to 2 classes.\n"
     ]
    }
   ],
   "source": [
    "test_datagen = ImageDataGenerator(rescale=1./255)\n",
    "test_set = test_datagen.flow_from_directory(\n",
    "        directory = r\"chest_xray/test/\",\n",
    "        target_size=(64 , 64),\n",
    "        batch_size=32,\n",
    "        class_mode='binary')"
   ]
  },
  {
   "cell_type": "code",
   "execution_count": 4,
   "metadata": {},
   "outputs": [
    {
     "name": "stdout",
     "output_type": "stream",
     "text": [
      "Found 16 images belonging to 2 classes.\n"
     ]
    }
   ],
   "source": [
    "validation = ImageDataGenerator(rescale=1./255)\n",
    "vall = test_datagen.flow_from_directory(\n",
    "        directory = r\"chest_xray/val/\",\n",
    "        target_size=(64 , 64),\n",
    "        batch_size=32,\n",
    "        class_mode='binary')"
   ]
  },
  {
   "cell_type": "markdown",
   "metadata": {},
   "source": [
    "CNN [Init]"
   ]
  },
  {
   "cell_type": "code",
   "execution_count": 5,
   "metadata": {},
   "outputs": [],
   "source": [
    "cnn = tf.keras.models.Sequential()"
   ]
  },
  {
   "cell_type": "code",
   "execution_count": 6,
   "metadata": {},
   "outputs": [],
   "source": [
    "#Step1:- Convolution \n",
    "\n",
    "cnn.add(tf.keras.layers.Conv2D(filters = 32 , kernel_size = 3 , activation = 'relu' ))\n",
    "cnn.add(keras.Input(shape=(64, 64, 3)))"
   ]
  },
  {
   "cell_type": "markdown",
   "metadata": {},
   "source": [
    "Pooling"
   ]
  },
  {
   "cell_type": "code",
   "execution_count": 7,
   "metadata": {},
   "outputs": [],
   "source": [
    "cnn.add(tf.keras.layers.MaxPool2D( pool_size = 2 , strides = 2))"
   ]
  },
  {
   "cell_type": "markdown",
   "metadata": {},
   "source": [
    "Flattening"
   ]
  },
  {
   "cell_type": "code",
   "execution_count": 8,
   "metadata": {},
   "outputs": [],
   "source": [
    "cnn.add(tf.keras.layers.Flatten())"
   ]
  },
  {
   "cell_type": "markdown",
   "metadata": {},
   "source": [
    "Adding the output layer"
   ]
  },
  {
   "cell_type": "code",
   "execution_count": 9,
   "metadata": {},
   "outputs": [],
   "source": [
    "cnn.add(tf.keras.layers.Dense(units = 1 , activation = 'sigmoid'))"
   ]
  },
  {
   "cell_type": "markdown",
   "metadata": {},
   "source": [
    "Compile the model"
   ]
  },
  {
   "cell_type": "code",
   "execution_count": 10,
   "metadata": {},
   "outputs": [],
   "source": [
    "cnn.compile(optimizer = 'adam', loss = 'binary_crossentropy', metrics = ['accuracy'])"
   ]
  },
  {
   "cell_type": "markdown",
   "metadata": {},
   "source": [
    "Fitting the model"
   ]
  },
  {
   "cell_type": "code",
   "execution_count": 11,
   "metadata": {},
   "outputs": [
    {
     "name": "stdout",
     "output_type": "stream",
     "text": [
      "Epoch 1/25\n",
      "163/163 [==============================] - 81s 494ms/step - loss: 0.3695 - accuracy: 0.8359 - val_loss: 0.5131 - val_accuracy: 0.6875\n",
      "Epoch 2/25\n",
      "163/163 [==============================] - 45s 273ms/step - loss: 0.2452 - accuracy: 0.9003 - val_loss: 0.3847 - val_accuracy: 0.9375\n",
      "Epoch 3/25\n",
      "163/163 [==============================] - 43s 266ms/step - loss: 0.2094 - accuracy: 0.9137 - val_loss: 0.4647 - val_accuracy: 0.7500\n",
      "Epoch 4/25\n",
      "163/163 [==============================] - 43s 266ms/step - loss: 0.1967 - accuracy: 0.9214 - val_loss: 0.5126 - val_accuracy: 0.6875\n",
      "Epoch 5/25\n",
      "163/163 [==============================] - 44s 269ms/step - loss: 0.1874 - accuracy: 0.9275 - val_loss: 0.3085 - val_accuracy: 0.8125\n",
      "Epoch 6/25\n",
      "163/163 [==============================] - 45s 274ms/step - loss: 0.1795 - accuracy: 0.9283 - val_loss: 0.3189 - val_accuracy: 0.8750\n",
      "Epoch 7/25\n",
      "163/163 [==============================] - 43s 263ms/step - loss: 0.1712 - accuracy: 0.9339 - val_loss: 0.3719 - val_accuracy: 0.8125\n",
      "Epoch 8/25\n",
      "163/163 [==============================] - 43s 264ms/step - loss: 0.1678 - accuracy: 0.9352 - val_loss: 0.4407 - val_accuracy: 0.7500\n",
      "Epoch 9/25\n",
      "163/163 [==============================] - 42s 257ms/step - loss: 0.1560 - accuracy: 0.9379 - val_loss: 0.3036 - val_accuracy: 0.8750\n",
      "Epoch 10/25\n",
      "163/163 [==============================] - 42s 260ms/step - loss: 0.1476 - accuracy: 0.9411 - val_loss: 0.4435 - val_accuracy: 0.7500\n",
      "Epoch 11/25\n",
      "163/163 [==============================] - 46s 279ms/step - loss: 0.1416 - accuracy: 0.9431 - val_loss: 0.3108 - val_accuracy: 0.8125\n",
      "Epoch 12/25\n",
      "163/163 [==============================] - 43s 264ms/step - loss: 0.1432 - accuracy: 0.9450 - val_loss: 0.3068 - val_accuracy: 0.8125\n",
      "Epoch 13/25\n",
      "163/163 [==============================] - 44s 267ms/step - loss: 0.1597 - accuracy: 0.9383 - val_loss: 0.4069 - val_accuracy: 0.6875\n",
      "Epoch 14/25\n",
      "163/163 [==============================] - 44s 272ms/step - loss: 0.1390 - accuracy: 0.9438 - val_loss: 0.2974 - val_accuracy: 0.8125\n",
      "Epoch 15/25\n",
      "163/163 [==============================] - 44s 272ms/step - loss: 0.1366 - accuracy: 0.9503 - val_loss: 0.3307 - val_accuracy: 0.8125\n",
      "Epoch 16/25\n",
      "163/163 [==============================] - 43s 263ms/step - loss: 0.1380 - accuracy: 0.9496 - val_loss: 0.2826 - val_accuracy: 0.8750\n",
      "Epoch 17/25\n",
      "163/163 [==============================] - 60s 372ms/step - loss: 0.1338 - accuracy: 0.9496 - val_loss: 0.2658 - val_accuracy: 0.9375\n",
      "Epoch 18/25\n",
      "163/163 [==============================] - 77s 469ms/step - loss: 0.1405 - accuracy: 0.9471 - val_loss: 0.2597 - val_accuracy: 0.9375\n",
      "Epoch 19/25\n",
      "163/163 [==============================] - 82s 502ms/step - loss: 0.1290 - accuracy: 0.9509 - val_loss: 0.3190 - val_accuracy: 0.8125\n",
      "Epoch 20/25\n",
      "163/163 [==============================] - 73s 444ms/step - loss: 0.1218 - accuracy: 0.9540 - val_loss: 0.2480 - val_accuracy: 0.9375\n",
      "Epoch 21/25\n",
      "163/163 [==============================] - 67s 413ms/step - loss: 0.1266 - accuracy: 0.9563 - val_loss: 0.3400 - val_accuracy: 0.8125\n",
      "Epoch 22/25\n",
      "163/163 [==============================] - 70s 432ms/step - loss: 0.1271 - accuracy: 0.9528 - val_loss: 0.5263 - val_accuracy: 0.6875\n",
      "Epoch 23/25\n",
      "163/163 [==============================] - 72s 439ms/step - loss: 0.1243 - accuracy: 0.9519 - val_loss: 0.2043 - val_accuracy: 1.0000\n",
      "Epoch 24/25\n",
      "163/163 [==============================] - 69s 421ms/step - loss: 0.1219 - accuracy: 0.9565 - val_loss: 0.3300 - val_accuracy: 0.8125\n",
      "Epoch 25/25\n",
      "163/163 [==============================] - 67s 409ms/step - loss: 0.1194 - accuracy: 0.9561 - val_loss: 0.3212 - val_accuracy: 0.8125\n"
     ]
    }
   ],
   "source": [
    "history=cnn.fit(x = training_set , validation_data = vall , epochs = 25)"
   ]
  },
  {
   "cell_type": "markdown",
   "metadata": {},
   "source": [
    "Evaluation"
   ]
  },
  {
   "cell_type": "code",
   "execution_count": 12,
   "metadata": {},
   "outputs": [
    {
     "name": "stdout",
     "output_type": "stream",
     "text": [
      "20/20 - 15s - loss: 0.3938 - accuracy: 0.8606 - 15s/epoch - 774ms/step\n",
      "The accuracy of the model is:\n",
      "0.8605769276618958\n"
     ]
    }
   ],
   "source": [
    "test_loss, test_acc = cnn.evaluate(test_set, verbose=2)\n",
    "print(\"The accuracy of the model is:\")\n",
    "print(test_acc)"
   ]
  },
  {
   "cell_type": "markdown",
   "metadata": {},
   "source": [
    "Plot the accuracy"
   ]
  },
  {
   "cell_type": "code",
   "execution_count": 13,
   "metadata": {},
   "outputs": [
    {
     "data": {
      "text/plain": [
       "<matplotlib.legend.Legend at 0x178709c3f40>"
      ]
     },
     "execution_count": 13,
     "metadata": {},
     "output_type": "execute_result"
    },
    {
     "data": {
      "image/png": "[encoded data removed]",
      "text/plain": [
       "<Figure size 432x288 with 1 Axes>"
      ]
     },
     "metadata": {
      "needs_background": "light"
     },
     "output_type": "display_data"
    }
   ],
   "source": [
    "plt.title(\"Accuracy versus epoch\")\n",
    "plt.plot(history.history['accuracy'], label='accuracy')\n",
    "plt.plot(history.history['val_accuracy'], label = 'val_accuracy')\n",
    "plt.xlabel('Epoch')\n",
    "plt.ylabel('Accuracy')\n",
    "plt.ylim([0.5, 1])\n",
    "plt.legend(loc='lower right')"
   ]
  },
  {
   "cell_type": "code",
   "execution_count": 14,
   "metadata": {},
   "outputs": [
    {
     "data": {
      "image/png": "[encoded data removed]",
      "text/plain": [
       "<Figure size 432x288 with 1 Axes>"
      ]
     },
     "metadata": {
      "needs_background": "light"
     },
     "output_type": "display_data"
    }
   ],
   "source": [
    "plt.plot(history.history['loss'])\n",
    "plt.plot(history.history['val_loss'])\n",
    "plt.title('model loss')\n",
    "plt.ylabel('loss')\n",
    "plt.xlabel('epoch')\n",
    "plt.legend(['train', 'val'], loc='upper left')\n",
    "plt.show()"
   ]
  },
  {
   "cell_type": "markdown",
   "metadata": {},
   "source": [
    "Predicting"
   ]
  },
  {
   "cell_type": "code",
   "execution_count": 54,
   "metadata": {},
   "outputs": [
    {
     "name": "stdout",
     "output_type": "stream",
     "text": [
      "1/1 [==============================] - 0s 65ms/step\n",
      "Pneumonia\n"
     ]
    }
   ],
   "source": [
    "import numpy as np\n",
    "#from keras.preprocessing import image\n",
    "\n",
    "test_image = tf.keras.utils.load_img('chest_xray/Dataset_Test/e2.jpeg', target_size = (64, 64))\n",
    "test_image = tf.keras.utils.img_to_array(test_image)\n",
    "test_image = np.expand_dims(test_image, axis = 0)\n",
    "result = cnn.predict(test_image)\n",
    "training_set.class_indices\n",
    "if result[0][0] == 0:\n",
    "  prediction = 'Normal'\n",
    "else:\n",
    "  prediction = 'Pneumonia'\n",
    "\n",
    "print(prediction)"
   ]
  }
 ],
 "metadata": {
  "kernelspec": {
   "display_name": "Python 3.10.0 64-bit",
   "language": "python",
   "name": "python3"
  },
  "language_info": {
   "codemirror_mode": {
    "name": "ipython",
    "version": 3
   },
   "file_extension": ".py",
   "mimetype": "text/x-python",
   "name": "python",
   "nbconvert_exporter": "python",
   "pygments_lexer": "ipython3",
   "version": "3.10.0"
  },
  "orig_nbformat": 4,
  "vscode": {
   "interpreter": {
    "hash": "b63e0d81c14a359c8c1136163d2e9dd534b37c74c9ecaed1a312a9f148c51841"
   }
  }
 },
 "nbformat": 4,
 "nbformat_minor": 2
}
